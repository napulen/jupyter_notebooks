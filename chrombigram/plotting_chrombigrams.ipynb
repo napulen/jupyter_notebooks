{
  "nbformat": 4,
  "nbformat_minor": 0,
  "metadata": {
    "kernelspec": {
      "display_name": "Python 3.7.4 64-bit ('base': conda)",
      "language": "python",
      "name": "python37464bitbasecondab80aa1bd6ca34444ba205a6e6ee04cf8"
    },
    "language_info": {
      "codemirror_mode": {
        "name": "ipython",
        "version": 3
      },
      "file_extension": ".py",
      "mimetype": "text/x-python",
      "name": "python",
      "nbconvert_exporter": "python",
      "pygments_lexer": "ipython3",
      "version": "3.7.4"
    },
    "colab": {
      "name": "Copy of key_albrecht.ipynb",
      "provenance": [],
      "collapsed_sections": [],
      "include_colab_link": true
    }
  },
  "cells": [
    {
      "cell_type": "markdown",
      "metadata": {
        "id": "view-in-github",
        "colab_type": "text"
      },
      "source": [
        "<a href=\"https://colab.research.google.com/github/napulen/jupyter_notebooks/blob/master/chrombigram/plotting_chrombigrams.ipynb\" target=\"_parent\"><img src=\"https://colab.research.google.com/assets/colab-badge.svg\" alt=\"Open In Colab\"/></a>"
      ]
    },
    {
      "cell_type": "markdown",
      "metadata": {
        "id": "ATDpC9k86Ojk",
        "colab_type": "text"
      },
      "source": [
        "## Key Estimation using pitch class sets\n",
        "\n",
        "This is a small experiment using word embeddings with musical information.\n",
        "\n",
        "The music pieces are encoded as sequences of `pitch class sets`, which are turned into strings.\n",
        "\n",
        "This is achieved through a library called `chrombigram` that I developed.\n",
        "\n",
        "The dataset of pieces was pre-computed into sequences of chrombigrams using a different notebook, the resulting strings can be imported to this notebook."
      ]
    },
    {
      "cell_type": "code",
      "metadata": {
        "id": "Vr95h3Gj87hk",
        "colab_type": "code",
        "outputId": "2cdf7ba6-4f78-425c-b9d7-37e252acf496",
        "colab": {
          "base_uri": "https://localhost:8080/",
          "height": 127
        }
      },
      "source": [
        "!git clone https://github.com/napulen/jupyter_notebooks/\n",
        "!pip install --upgrade chrombigram"
      ],
      "execution_count": 50,
      "outputs": [
        {
          "output_type": "stream",
          "text": [
            "fatal: destination path 'jupyter_notebooks' already exists and is not an empty directory.\n",
            "Collecting chrombigram\n",
            "  Downloading https://files.pythonhosted.org/packages/47/09/2654f4ad2d49f8016f2870a88fe940226306435cd4a6a7ed2d8de8d15229/chrombigram-0.3.0-py2.py3-none-any.whl\n",
            "Requirement already satisfied, skipping upgrade: music21 in /usr/local/lib/python3.6/dist-packages (from chrombigram) (5.5.0)\n",
            "Installing collected packages: chrombigram\n",
            "Successfully installed chrombigram-0.3.0\n"
          ],
          "name": "stdout"
        }
      ]
    },
    {
      "cell_type": "code",
      "metadata": {
        "id": "ccISRDoq6Ojn",
        "colab_type": "code",
        "colab": {
          "base_uri": "https://localhost:8080/",
          "height": 54
        },
        "outputId": "f350b306-3e8b-48d5-9d66-12aa9edea3dd"
      },
      "source": [
        "from chrombigram.chrombigram import Chrombigram, ChrombigramCounter\n",
        "import pandas as pd\n",
        "import numpy as np\n",
        "import seaborn as sns\n",
        "import matplotlib.pyplot as plt \n",
        "import csv"
      ],
      "execution_count": 5,
      "outputs": [
        {
          "output_type": "stream",
          "text": [
            "/usr/local/lib/python3.6/dist-packages/statsmodels/tools/_testing.py:19: FutureWarning: pandas.util.testing is deprecated. Use the functions in the public API at pandas.testing instead.\n",
            "  import pandas.util.testing as tm\n"
          ],
          "name": "stderr"
        }
      ]
    },
    {
      "cell_type": "markdown",
      "metadata": {
        "id": "z3HDaGaJ6Ojx",
        "colab_type": "text"
      },
      "source": [
        "## Loading the data"
      ]
    },
    {
      "cell_type": "markdown",
      "metadata": {
        "id": "p3ZTXBDB6Oj1",
        "colab_type": "text"
      },
      "source": [
        "An auxiliary function to extract pitch-class sets from a music21 stream"
      ]
    },
    {
      "cell_type": "code",
      "metadata": {
        "id": "sVLZ1r8A9j-5",
        "colab_type": "code",
        "colab": {}
      },
      "source": [
        "with open('jupyter_notebooks/chrombigram/dataset.csv') as f:\n",
        "  df = pd.read_csv(f)"
      ],
      "execution_count": 0,
      "outputs": []
    },
    {
      "cell_type": "code",
      "metadata": {
        "id": "lvnOx7Mx9260",
        "colab_type": "code",
        "colab": {}
      },
      "source": [
        "key_encodings = {}\n",
        "keys = [                \n",
        "  ('C', 0), \n",
        "  ('D', 2), \n",
        "  ('E', 4),\n",
        "  ('F', 5),\n",
        "  ('G', 7),\n",
        "  ('A', 9),\n",
        "  ('B', 11),\n",
        "  ('c', 12), \n",
        "  ('d', 14), \n",
        "  ('e', 16),\n",
        "  ('f', 17),\n",
        "  ('g', 19),\n",
        "  ('a', 21),\n",
        "  ('b', 23)  \n",
        "]\n",
        "\n",
        "alterations = [\n",
        "  ('', 0),\n",
        "  ('#', 1),\n",
        "  ('x', 2),\n",
        "  ('##', 2),\n",
        "  ('b', -1),\n",
        "  ('bb', -2),\n",
        "  ('-', -1),\n",
        "  ('--', -2)\n",
        "]\n",
        "\n",
        "for key, label in keys:\n",
        "  for alt, value in alterations:\n",
        "    key_encodings[key + alt] = (12 + label + value) % 12\n",
        "    key_encodings[key + alt] += 12 if label >= 12 else 0\n",
        "\n",
        "def encode_key_labels(label):\n",
        "  if label in key_encodings:\n",
        "    return key_encodings[label]\n",
        "  else:\n",
        "    return np.nan"
      ],
      "execution_count": 0,
      "outputs": []
    },
    {
      "cell_type": "markdown",
      "metadata": {
        "id": "4iYp-w6rIGnu",
        "colab_type": "text"
      },
      "source": [
        "Encode the labels as numbers, and remve the entries with faulty key labels from the dataset"
      ]
    },
    {
      "cell_type": "code",
      "metadata": {
        "id": "AHq-upZAA4Ow",
        "colab_type": "code",
        "colab": {}
      },
      "source": [
        "df['label'] = df['label'].map(encode_key_labels)\n",
        "df = df.dropna()"
      ],
      "execution_count": 0,
      "outputs": []
    },
    {
      "cell_type": "markdown",
      "metadata": {
        "id": "qo5zu9NbIyS1",
        "colab_type": "text"
      },
      "source": [
        "Let's plot some data"
      ]
    },
    {
      "cell_type": "code",
      "metadata": {
        "id": "zIDUYVHTBHle",
        "colab_type": "code",
        "colab": {
          "base_uri": "https://localhost:8080/",
          "height": 377
        },
        "outputId": "eef20ec3-efe3-49fc-f467-c2be8c7626a8"
      },
      "source": [
        "for index, row in df.iterrows():\n",
        "    name = row['file']\n",
        "    key = row['label']    \n",
        "    sequence = row['chrombigram_sequence']\n",
        "    sequence = sequence.split()\n",
        "    print(name, key, sequence)\n",
        "    counter = ChrombigramCounter()\n",
        "    for chrombi_str in sequence:      \n",
        "      chrombi = Chrombigram.from_string(chrombi_str)      \n",
        "      counter.append(chrombi)    \n",
        "    histogramdf = pd.Series(counter.chrombigram_dict)\n",
        "    histogramdf = histogramdf.replace(0, np.nan)\n",
        "    histogramdf = histogramdf.dropna()\n",
        "    print(list(histogramdf.index))    \n",
        "    plt.figure(figsize=(30, 5))\n",
        "    sns.barplot(x=histogramdf.index, y=histogramdf.values)\n",
        "    plt.show()\n",
        "    break"
      ],
      "execution_count": 32,
      "outputs": [
        {
          "output_type": "stream",
          "text": [
            "chor086.krn 19.0 ['926', '149', '926', '149', '2B6', '82B', '169', '149', '92B6', '9B6', '1B69', '92B6', '8B4', '149', '926', '2B7', '1467', '147', '926', '82B6', '149', '19', '92B6', '926', '814', '82B4', '149', '926', '2B7', '926', '2B47', '147', '926', '924', '149', '1497', '926', '149', '926', '149', '926', '926', '9246', '926', '9267', '149', '1B49', '149', '1497', '926', '9246', '926', '926', '149', '149', '9367', '936', 'B47', '147', '2B6', '1269', '2B47', '1B47', 'B47', '149', '1497', '926', '2B6', '82B6', '1A6', '1A46', '2B7', 'B47', '169', '2B67', '147', '9246', '926', '2B47', '1B47', 'B47', '149', '1497', '926']\n",
            "[19, 147, 814, 149, 169, 1A6, 924, 926, 2B6, 2B7, 82B, 936, B47, 8B4, 9B6, 1269, 1467, 1A46, 1497, 1B47, 1B49, 1B69, 9246, 2B47, 82B4, 9267, 2B67, 82B6, 92B6, 9367]\n"
          ],
          "name": "stdout"
        },
        {
          "output_type": "display_data",
          "data": {
            "image/png": "[encoded data removed]",
            "text/plain": [
              "<Figure size 2160x360 with 1 Axes>"
            ]
          },
          "metadata": {
            "tags": [],
            "needs_background": "light"
          }
        }
      ]
    },
    {
      "cell_type": "code",
      "metadata": {
        "id": "j4YwsfPXHoNj",
        "colab_type": "code",
        "colab": {}
      },
      "source": [
        ""
      ],
      "execution_count": 0,
      "outputs": []
    }
  ]
}